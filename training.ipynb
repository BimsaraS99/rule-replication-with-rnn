{
 "cells": [
  {
   "cell_type": "markdown",
   "id": "360edeb1",
   "metadata": {},
   "source": [
    "### Import libraries"
   ]
  },
  {
   "cell_type": "code",
   "execution_count": 259,
   "id": "f481d756",
   "metadata": {},
   "outputs": [],
   "source": [
    "import torch\n",
    "import torch.nn as nn\n",
    "from torch.utils.data import Dataset, DataLoader\n",
    "import csv"
   ]
  },
  {
   "cell_type": "markdown",
   "id": "8a578fad",
   "metadata": {},
   "source": [
    "### Define RNN model"
   ]
  },
  {
   "cell_type": "code",
   "execution_count": 260,
   "id": "a7c9be2f",
   "metadata": {},
   "outputs": [],
   "source": [
    "class RNN_Model(nn.Module):\n",
    "    def __init__(self, input_size, hidden_size):\n",
    "        super().__init__()\n",
    "        self.rnn = nn.RNN(input_size, hidden_size, num_layers=2, batch_first=True, dropout=0.3)\n",
    "        self.fc1 = nn.Linear(hidden_size, 64)\n",
    "        self.relu = nn.ReLU()\n",
    "        self.fc2 = nn.Linear(64, 1)\n",
    "\n",
    "    def forward(self, x):\n",
    "        out, _ = self.rnn(x)\n",
    "        out = out[:, -1, :]  # last timestep\n",
    "        out = self.relu(self.fc1(out))\n",
    "        out = self.fc2(out)\n",
    "        return out  # raw logits"
   ]
  },
  {
   "cell_type": "markdown",
   "id": "9c7464b4",
   "metadata": {},
   "source": [
    "### Test run"
   ]
  },
  {
   "cell_type": "code",
   "execution_count": 261,
   "id": "088c7e6a",
   "metadata": {},
   "outputs": [
    {
     "name": "stdout",
     "output_type": "stream",
     "text": [
      "Done\n"
     ]
    }
   ],
   "source": [
    "model = RNN_Model(input_size=1, hidden_size=64)\n",
    "x = torch.randn(64, 10, 1)  # batch=5, seq_len=7, input_size=10\n",
    "output = model(x)\n",
    "print(\"Done\" if output.shape == (64, 1) else \"Failed\")"
   ]
  },
  {
   "cell_type": "markdown",
   "id": "3cfe5895",
   "metadata": {},
   "source": [
    "### Data loading"
   ]
  },
  {
   "cell_type": "code",
   "execution_count": 262,
   "id": "b1ba3ed9",
   "metadata": {},
   "outputs": [],
   "source": [
    "class SequenceDataset(Dataset):\n",
    "    def __init__(self, csv_file, max_len):\n",
    "        self.sequences = []\n",
    "        self.labels = []\n",
    "        with open(csv_file, 'r') as file:\n",
    "            reader = csv.reader(file)\n",
    "            next(reader)  # skip header\n",
    "            for row in reader:\n",
    "                label = int(row[-1])\n",
    "                seq = list(map(int, row[:-1]))\n",
    "                self.sequences.append(seq)\n",
    "                self.labels.append(label)\n",
    "        self.max_len = max_len\n",
    "\n",
    "\n",
    "    def __len__(self):\n",
    "        return len(self.sequences)\n",
    "\n",
    "\n",
    "    def __getitem__(self, idx):\n",
    "        seq = self.sequences[idx]\n",
    "        # Normalize values to [0, 1], keep padding as -1\n",
    "        seq = [(v if v != 0 else -1.0) for v in seq]\n",
    "        seq_tensor = torch.tensor(seq, dtype=torch.float32).unsqueeze(-1)  # shape: [seq_len, 1]\n",
    "        label = torch.tensor(self.labels[idx], dtype=torch.float32)\n",
    "        return seq_tensor, label"
   ]
  },
  {
   "cell_type": "code",
   "execution_count": 263,
   "id": "d4eacf54",
   "metadata": {},
   "outputs": [],
   "source": [
    "dataset = SequenceDataset('order_dependent_sequence_dataset.csv', max_len=10)"
   ]
  },
  {
   "cell_type": "markdown",
   "id": "f20e17dc",
   "metadata": {},
   "source": [
    "### \"dataset\" instance testing"
   ]
  },
  {
   "cell_type": "code",
   "execution_count": 264,
   "id": "5bcb13a1",
   "metadata": {},
   "outputs": [
    {
     "name": "stdout",
     "output_type": "stream",
     "text": [
      "Sequence: tensor([[-1.],\n",
      "        [ 6.],\n",
      "        [ 8.],\n",
      "        [ 5.],\n",
      "        [-1.],\n",
      "        [-1.],\n",
      "        [ 5.],\n",
      "        [ 5.],\n",
      "        [ 3.],\n",
      "        [-1.]])\n",
      "Label: tensor(0.)\n"
     ]
    }
   ],
   "source": [
    "seq, label = dataset[1]\n",
    "print(\"Sequence:\", seq)\n",
    "print(\"Label:\", label)"
   ]
  },
  {
   "cell_type": "markdown",
   "id": "b3ee772c",
   "metadata": {},
   "source": [
    "### Training Loop"
   ]
  },
  {
   "cell_type": "code",
   "execution_count": 265,
   "id": "43d542b8",
   "metadata": {},
   "outputs": [],
   "source": [
    "batch_size = 64\n",
    "hidden_size = 64\n",
    "lr = 0.001\n",
    "num_epochs = 200"
   ]
  },
  {
   "cell_type": "code",
   "execution_count": 266,
   "id": "ed850911",
   "metadata": {},
   "outputs": [],
   "source": [
    "dataloader = DataLoader(dataset, batch_size=batch_size, shuffle=True)"
   ]
  },
  {
   "cell_type": "code",
   "execution_count": 267,
   "id": "ec9777e5",
   "metadata": {},
   "outputs": [
    {
     "name": "stdout",
     "output_type": "stream",
     "text": [
      "Batch sequences shape: torch.Size([64, 10, 1])\n",
      "Batch labels shape: torch.Size([64, 1])\n"
     ]
    }
   ],
   "source": [
    "for sequences, labels in dataloader:\n",
    "    sequences, labels = sequences.to(torch.device(\"cpu\")), labels.to(torch.device(\"cpu\")).unsqueeze(1)\n",
    "    print(\"Batch sequences shape:\", sequences.shape)\n",
    "    print(\"Batch labels shape:\", labels.shape)\n",
    "    break"
   ]
  },
  {
   "cell_type": "markdown",
   "id": "6bfcef12",
   "metadata": {},
   "source": [
    "### Instantiate model, loss, optimizer"
   ]
  },
  {
   "cell_type": "code",
   "execution_count": 268,
   "id": "54eed9e5",
   "metadata": {},
   "outputs": [],
   "source": [
    "model = RNN_Model(input_size=1, hidden_size=hidden_size)\n",
    "criterion = nn.BCEWithLogitsLoss()  # combines sigmoid + BCE loss\n",
    "optimizer = torch.optim.Adam(model.parameters(), lr=lr)"
   ]
  },
  {
   "cell_type": "code",
   "execution_count": 269,
   "id": "2cbd9102",
   "metadata": {},
   "outputs": [
    {
     "data": {
      "text/plain": [
       "RNN_Model(\n",
       "  (rnn): RNN(1, 64, num_layers=2, batch_first=True, dropout=0.3)\n",
       "  (fc1): Linear(in_features=64, out_features=64, bias=True)\n",
       "  (relu): ReLU()\n",
       "  (fc2): Linear(in_features=64, out_features=1, bias=True)\n",
       ")"
      ]
     },
     "execution_count": 269,
     "metadata": {},
     "output_type": "execute_result"
    }
   ],
   "source": [
    "device = torch.device(\"cuda\")\n",
    "model.to(device)"
   ]
  },
  {
   "cell_type": "code",
   "execution_count": 270,
   "id": "5eaf4e72",
   "metadata": {},
   "outputs": [
    {
     "name": "stdout",
     "output_type": "stream",
     "text": [
      "Epoch [10/200], Loss: 0.4387\n",
      "Epoch [20/200], Loss: 0.4292\n",
      "Epoch [30/200], Loss: 0.3608\n",
      "Epoch [40/200], Loss: 0.2671\n",
      "Epoch [50/200], Loss: 0.1673\n",
      "Epoch [60/200], Loss: 0.0698\n",
      "Epoch [70/200], Loss: 0.0458\n",
      "Epoch [80/200], Loss: 0.0177\n",
      "Epoch [90/200], Loss: 0.0107\n",
      "Epoch [100/200], Loss: 0.0075\n",
      "Epoch [110/200], Loss: 0.0066\n",
      "Epoch [120/200], Loss: 0.0049\n",
      "Epoch [130/200], Loss: 0.0043\n",
      "Epoch [140/200], Loss: 0.0097\n",
      "Epoch [150/200], Loss: 0.0136\n",
      "Epoch [160/200], Loss: 0.0046\n",
      "Epoch [170/200], Loss: 0.0542\n",
      "Epoch [180/200], Loss: 0.0016\n",
      "Epoch [190/200], Loss: 0.0032\n",
      "Epoch [199/200], Loss: 0.0031\n"
     ]
    }
   ],
   "source": [
    "for epoch in range(1, num_epochs):\n",
    "    model.train()\n",
    "    total_loss = 0\n",
    "    for sequences, labels in dataloader:\n",
    "        sequences, labels = sequences.to(device), labels.to(device).unsqueeze(1)\n",
    "\n",
    "        outputs = model(sequences)\n",
    "        loss = criterion(outputs, labels)\n",
    "\n",
    "        optimizer.zero_grad()\n",
    "        loss.backward()\n",
    "        optimizer.step()\n",
    "\n",
    "        total_loss += loss.item()\n",
    "\n",
    "    avg_loss = total_loss / len(dataloader)\n",
    "\n",
    "    if epoch % 10 == 0:\n",
    "        print(f\"Epoch [{epoch}/{num_epochs}], Loss: {avg_loss:.4f}\")\n",
    "print(f\"Epoch [{epoch}/{num_epochs}], Loss: {avg_loss:.4f}\")"
   ]
  },
  {
   "cell_type": "code",
   "execution_count": 281,
   "id": "5d65c710",
   "metadata": {},
   "outputs": [
    {
     "name": "stdout",
     "output_type": "stream",
     "text": [
      "Predicted label: 0\n"
     ]
    }
   ],
   "source": [
    "manual_sequence = [7, 2, 7, 8, 7, 3]  # example input, change as needed\n",
    "\n",
    "# Pad or truncate the sequence to max_len\n",
    "padded = manual_sequence[:10] + [-1] * (10 - len(manual_sequence))\n",
    "# Convert PAD_VALUE to -1.0, others to float\n",
    "input_seq = [float(v) if v != -1 else -1.0 for v in padded]\n",
    "input_tensor = torch.tensor(input_seq, dtype=torch.float32).unsqueeze(0).unsqueeze(-1).to(device)  # shape: [1, max_len, 1]\n",
    "\n",
    "model.eval()\n",
    "with torch.no_grad():\n",
    "    logits = model(input_tensor)\n",
    "    prob = torch.sigmoid(logits)\n",
    "    \n",
    "    if prob.item() > 0.5:\n",
    "        print(\"Predicted label: 1\")\n",
    "    else:\n",
    "        print(\"Predicted label: 0\")"
   ]
  },
  {
   "cell_type": "code",
   "execution_count": 282,
   "id": "3b603990",
   "metadata": {},
   "outputs": [
    {
     "name": "stdout",
     "output_type": "stream",
     "text": [
      "Calculated label:  0\n"
     ]
    }
   ],
   "source": [
    "def get_label_from_sequence(sequence):\n",
    "    found_3 = False\n",
    "    label = 0\n",
    "    for num in sequence:\n",
    "        if num == 3:\n",
    "            found_3 = True\n",
    "        elif num == 7 and found_3:\n",
    "            label = 1\n",
    "            break\n",
    "    return label\n",
    "\n",
    "# Example usage:\n",
    "print(\"Calculated label: \", get_label_from_sequence(manual_sequence))  # Output: 1"
   ]
  }
 ],
 "metadata": {
  "kernelspec": {
   "display_name": "Python 3",
   "language": "python",
   "name": "python3"
  },
  "language_info": {
   "codemirror_mode": {
    "name": "ipython",
    "version": 3
   },
   "file_extension": ".py",
   "mimetype": "text/x-python",
   "name": "python",
   "nbconvert_exporter": "python",
   "pygments_lexer": "ipython3",
   "version": "3.10.16"
  }
 },
 "nbformat": 4,
 "nbformat_minor": 5
}
