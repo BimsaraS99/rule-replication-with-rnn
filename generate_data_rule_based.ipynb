{
 "cells": [
  {
   "cell_type": "markdown",
   "id": "24d30fc5",
   "metadata": {},
   "source": [
    "### Description of the Data Generation Method\n",
    "\n",
    "This data generation method creates a synthetic dataset of variable-length numerical sequences along with corresponding binary labels based on a predefined rule.\n",
    "\n",
    "* **Sequence Generation:**\n",
    "  Each sequence consists of random integers ranging from 0 to 9. The length of each sequence is randomly chosen within a specified range (default between 3 and 10 elements).\n",
    "\n",
    "* **Labeling Rule:**\n",
    "  The label for each sequence is binary and determined by the parity of the sum of its elements. If the sum is even, the label is `1`; if odd, the label is `0`.\n",
    "\n",
    "* **Data Formatting:**\n",
    "  To handle sequences of varying lengths, each sequence is padded to a fixed maximum length (default 10) with a special padding value (`-1`). This ensures uniform input size for machine learning models.\n",
    "\n",
    "* **Output Format:**\n",
    "  The dataset is saved as a CSV file where each column represents an element of the padded sequence (`step_1`, `step_2`, ..., `step_10`), followed by the `label` column.\n",
    "\n",
    "This approach facilitates training sequence models such as Recurrent Neural Networks (RNNs) to learn and replicate the underlying parity-based rule from variable-length sequences."
   ]
  },
  {
   "cell_type": "code",
   "execution_count": 1,
   "id": "b0174545",
   "metadata": {},
   "outputs": [],
   "source": [
    "import csv\n",
    "import random"
   ]
  },
  {
   "cell_type": "code",
   "execution_count": 2,
   "id": "217733a4",
   "metadata": {},
   "outputs": [],
   "source": [
    "def generate_sequence_and_label(min_len=3, max_len=10):\n",
    "    seq_len = random.randint(min_len, max_len)  # Random length in range\n",
    "    sequence = [random.randint(0, 9) for _ in range(seq_len)]\n",
    "    label = int(sum(sequence) % 2 == 0)\n",
    "    return sequence, label"
   ]
  },
  {
   "cell_type": "code",
   "execution_count": 3,
   "id": "570e7310",
   "metadata": {},
   "outputs": [],
   "source": [
    "dataset = [generate_sequence_and_label() for _ in range(10000)]\n",
    "\n",
    "max_len = 10        # maximum length of sequences\n",
    "PAD_VALUE = -1      # padding value for shorter sequences\n",
    "\n",
    "with open('padded_sequence_dataset.csv', 'w', newline='') as file:\n",
    "    writer = csv.writer(file)\n",
    "\n",
    "    # Write header: step_1, step_2, ..., step_10, label\n",
    "    header = [f'step_{i+1}' for i in range(max_len)] + ['label']\n",
    "    writer.writerow(header)\n",
    "\n",
    "    # Write data rows with padded sequences\n",
    "    for sequence, label in dataset:\n",
    "        padded_sequence = sequence + [PAD_VALUE] * (max_len - len(sequence))\n",
    "        writer.writerow(padded_sequence + [label])"
   ]
  }
 ],
 "metadata": {
  "kernelspec": {
   "display_name": "nlp",
   "language": "python",
   "name": "python3"
  },
  "language_info": {
   "codemirror_mode": {
    "name": "ipython",
    "version": 3
   },
   "file_extension": ".py",
   "mimetype": "text/x-python",
   "name": "python",
   "nbconvert_exporter": "python",
   "pygments_lexer": "ipython3",
   "version": "3.10.16"
  }
 },
 "nbformat": 4,
 "nbformat_minor": 5
}
